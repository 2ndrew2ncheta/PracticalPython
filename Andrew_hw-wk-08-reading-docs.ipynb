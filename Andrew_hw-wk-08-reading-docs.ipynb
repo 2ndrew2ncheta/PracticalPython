{
 "cells": [
  {
   "cell_type": "markdown",
   "metadata": {
    "id": "VlCS3pUICfoz"
   },
   "source": [
    "## Scraping Content from Documents\n",
    "\n",
    "[This a folder](https://drive.google.com/file/d/1a_JlM2k_An8CT0MRLYjX6gzYvNm5t3cl/view?usp=share_link) that contains more than two dozen files.\n",
    "\n",
    "Using the lesson on collecting content from documents, please do the following using Python:\n",
    "\n",
    "* Analyze ONLY the .txt files (but do not physically remove the other files from this folder).\n",
    "\n",
    "* Output a CSV file that has 4 columns: year, cognition_related , medical_condition, care_hours\n",
    "\n",
    "* In the cognition_related column, enter ```True``` if the condition is related to Dementia or Alzheimer's disease. ```False``` if it is not.\n",
    "\n",
    "* In the medical_conditions column, enter either “Dementia\" or “Alzheimer’s\" or “Not Specified” depending on the case.\n",
    "* In the care_hours column, enter either \"half-day\" for 12-hour care, \"full-day\" for 24-hour care or “Not Specified\"\n",
    "\n",
    "* Export the CSV to your downloads.\n"
   ]
  },
  {
   "cell_type": "code",
   "execution_count": 45,
   "metadata": {
    "id": "MvWkH550CdzY"
   },
   "outputs": [],
   "source": [
    "import glob\n",
    "import requests\n",
    "import pandas as pd"
   ]
  },
  {
   "cell_type": "code",
   "execution_count": 2,
   "metadata": {},
   "outputs": [],
   "source": [
    "text_files=glob.glob(\"project-docs/*.txt\")"
   ]
  },
  {
   "cell_type": "code",
   "execution_count": 3,
   "metadata": {},
   "outputs": [
    {
     "data": {
      "text/plain": [
       "['project-docs/decision_14.txt',\n",
       " 'project-docs/decision_01.txt',\n",
       " 'project-docs/decision_15.txt',\n",
       " 'project-docs/decision_03.txt',\n",
       " 'project-docs/decision_17.txt',\n",
       " 'project-docs/decision_16.txt',\n",
       " 'project-docs/decision_02.txt',\n",
       " 'project-docs/decision_06.txt',\n",
       " 'project-docs/decision_12.txt',\n",
       " 'project-docs/decision_13.txt',\n",
       " 'project-docs/decision_07.txt',\n",
       " 'project-docs/decision_11.txt',\n",
       " 'project-docs/decision_05.txt',\n",
       " 'project-docs/decision_04.txt',\n",
       " 'project-docs/decision_10.txt',\n",
       " 'project-docs/decision_09.txt',\n",
       " 'project-docs/decision_08.txt',\n",
       " 'project-docs/decision_20.txt',\n",
       " 'project-docs/decision_18.txt',\n",
       " 'project-docs/decision_19.txt']"
      ]
     },
     "execution_count": 3,
     "metadata": {},
     "output_type": "execute_result"
    }
   ],
   "source": [
    "text_files"
   ]
  },
  {
   "cell_type": "code",
   "execution_count": 29,
   "metadata": {},
   "outputs": [
    {
     "name": "stdout",
     "output_type": "stream",
     "text": [
      "This order provides 12-hour care.\n"
     ]
    }
   ],
   "source": [
    "with open (text_files[0],\"r\") as my_text:\n",
    "    print(my_text.readlines()[4])\n"
   ]
  },
  {
   "cell_type": "code",
   "execution_count": 49,
   "metadata": {},
   "outputs": [
    {
     "name": "stdout",
     "output_type": "stream",
     "text": [
      " 2018 Dementia True Half day\n"
     ]
    }
   ],
   "source": [
    "#Let's try\n",
    "with open(text_files[0],\"r\") as thistext:\n",
    "    current_text=thistext.readlines()\n",
    "firstline=current_text[0]\n",
    "secondline=current_text[2]\n",
    "thirdline=current_text[4]\n",
    "year=firstline.replace(\"Year:\",\"\").replace(\"\\n\",\"\")\n",
    "if \"dementia\" in secondline.lower():\n",
    "    condition=\"Dementia\"\n",
    "elif \"alzheimer\" in secondline.lower():\n",
    "    condition=\"Alzheimer's\"\n",
    "else:\n",
    "    condition=\"Not Specified\"\n",
    "if condition==\"Alzheimer's\" or condition==\"Dementia\":\n",
    "    cognition_related=\"True\"\n",
    "else:\n",
    "    cognition_related=\"False\"\n",
    "if \"12-hour\" in thirdline.lower():\n",
    "    care=\"Half day\"\n",
    "elif \"24-hour\" in thirdline.lower():\n",
    "    care=\"Full day\"\n",
    "else: \n",
    "    care=\"Not Specified\"\n",
    "print(year, condition, cognition_related,care)\n",
    "        "
   ]
  },
  {
   "cell_type": "code",
   "execution_count": 52,
   "metadata": {},
   "outputs": [
    {
     "name": "stdout",
     "output_type": "stream",
     "text": [
      "[{'year': ' 2018', 'cognition_related': 'True', 'care_hours': 'Half day'}, {'year': ' 2016', 'cognition_related': 'True', 'care_hours': 'Full day'}, {'year': ' 2013', 'cognition_related': 'True', 'care_hours': 'Half day'}, {'year': ' 2021', 'cognition_related': 'True', 'care_hours': 'Full day'}, {'year': ' 2016', 'cognition_related': 'True', 'care_hours': 'Not Specified'}, {'year': ' 2020', 'cognition_related': 'True', 'care_hours': 'Half day'}, {'year': ' 2017', 'cognition_related': 'True', 'care_hours': 'Not Specified'}, {'year': ' 2021', 'cognition_related': 'True', 'care_hours': 'Half day'}, {'year': ' 2019', 'cognition_related': 'True', 'care_hours': 'Not Specified'}, {'year': ' 2021', 'cognition_related': 'True', 'care_hours': 'Full day'}, {'year': ' 2019', 'cognition_related': 'True', 'care_hours': 'Not Specified'}, {'year': ' 2019', 'cognition_related': 'True', 'care_hours': 'Full day'}, {'year': ' 2018', 'cognition_related': 'True', 'care_hours': 'Half day'}, {'year': ' 2021', 'cognition_related': 'True', 'care_hours': 'Not Specified'}, {'year': ' 2016', 'cognition_related': 'True', 'care_hours': 'Full day'}, {'year': ' 2014', 'cognition_related': 'True', 'care_hours': 'Full day'}, {'year': ' 2016', 'cognition_related': 'True', 'care_hours': 'Full day'}, {'year': ' 2017', 'cognition_related': 'True', 'care_hours': 'Full day'}, {'year': ' 2017', 'cognition_related': 'True', 'care_hours': 'Full day'}, {'year': ' 2020', 'cognition_related': 'True', 'care_hours': 'Full day'}]\n"
     ]
    }
   ],
   "source": [
    "medical_files=[]\n",
    "for text in text_files:\n",
    "    with open(text,\"r\") as text_list:\n",
    "        current_text=text_list.readlines()\n",
    "    firstline=current_text[0]\n",
    "    secondline=current_text[2]\n",
    "    thirdline=current_text[4]\n",
    "    year=firstline.replace(\"Year:\",\"\").replace(\"\\n\",\"\")\n",
    "    if \"dementia\" in secondline.lower():\n",
    "        condition=\"Dementia\"\n",
    "    elif \"alzheimer\" in secondline.lower():\n",
    "        condition=\"Alzheimer's\"\n",
    "    else:\n",
    "        condition=\"Not Specified\"\n",
    "    if condition==\"Alzheimer's\" or condition==\"Dementia\":\n",
    "        cognition_related=\"True\"\n",
    "    else:\n",
    "        cognition_related=\"False\"\n",
    "    if \"12-hour\" in thirdline.lower():\n",
    "        care=\"Half day\"\n",
    "    elif \"24-hour\" in thirdline.lower():\n",
    "        care=\"Full day\"\n",
    "    else: \n",
    "        care=\"Not Specified\"\n",
    "    this_dict={\"year\":year, \"cognition_related\": cognition_related, \"care_hours\":care}\n",
    "    medical_files.append(this_dict)\n",
    "print(medical_files)\n",
    "        \n",
    "        \n",
    "    \n",
    "        \n",
    "    "
   ]
  },
  {
   "cell_type": "code",
   "execution_count": 53,
   "metadata": {},
   "outputs": [
    {
     "name": "stdout",
     "output_type": "stream",
     "text": [
      "     year cognition_related     care_hours\n",
      "0    2018              True       Half day\n",
      "1    2016              True       Full day\n",
      "2    2013              True       Half day\n",
      "3    2021              True       Full day\n",
      "4    2016              True  Not Specified\n",
      "5    2020              True       Half day\n",
      "6    2017              True  Not Specified\n",
      "7    2021              True       Half day\n",
      "8    2019              True  Not Specified\n",
      "9    2021              True       Full day\n",
      "10   2019              True  Not Specified\n",
      "11   2019              True       Full day\n",
      "12   2018              True       Half day\n",
      "13   2021              True  Not Specified\n",
      "14   2016              True       Full day\n",
      "15   2014              True       Full day\n",
      "16   2016              True       Full day\n",
      "17   2017              True       Full day\n",
      "18   2017              True       Full day\n",
      "19   2020              True       Full day\n"
     ]
    }
   ],
   "source": [
    "df=pd.DataFrame(medical_files)\n",
    "print(df)"
   ]
  },
  {
   "cell_type": "code",
   "execution_count": 55,
   "metadata": {},
   "outputs": [],
   "source": [
    "df.to_csv(\"my_downloads/medical_files.csv\")"
   ]
  },
  {
   "cell_type": "code",
   "execution_count": null,
   "metadata": {},
   "outputs": [],
   "source": []
  }
 ],
 "metadata": {
  "colab": {
   "provenance": []
  },
  "kernelspec": {
   "display_name": "Python 3 (ipykernel)",
   "language": "python",
   "name": "python3"
  },
  "language_info": {
   "codemirror_mode": {
    "name": "ipython",
    "version": 3
   },
   "file_extension": ".py",
   "mimetype": "text/x-python",
   "name": "python",
   "nbconvert_exporter": "python",
   "pygments_lexer": "ipython3",
   "version": "3.11.4"
  }
 },
 "nbformat": 4,
 "nbformat_minor": 1
}

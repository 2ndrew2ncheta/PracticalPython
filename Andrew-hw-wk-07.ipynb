{
 "cells": [
  {
   "cell_type": "markdown",
   "id": "0a089baa",
   "metadata": {},
   "source": [
    "# 1. Demo downloading files from websites \n",
    "\n",
    "There are ```txt``` and ```pdf``` files on:\n",
    "\n",
    "```https://sandeepmj.github.io/scrape-example-page/pages.html```\n",
    "\n",
    "Do the following:\n",
    "\n",
    "1. Download all ```pdf``` files."
   ]
  },
  {
   "cell_type": "code",
   "execution_count": 28,
   "id": "c2151394",
   "metadata": {},
   "outputs": [],
   "source": [
    "\n",
    "from bs4 import BeautifulSoup  ## scrape info from web pages\n",
    "import requests ## get web pages from server\n",
    "import time # time is required. we will use its sleep function\n",
    "from random import randrange # generate random numbers\n",
    "import wget\n"
   ]
  },
  {
   "cell_type": "code",
   "execution_count": 52,
   "id": "5c95c87f",
   "metadata": {},
   "outputs": [],
   "source": [
    "site=\"https://sandeepmj.github.io/scrape-example-page/pages.html\"\n",
    "base_url=\"https://sandeepmj.github.io/scrape-example-page/\""
   ]
  },
  {
   "cell_type": "code",
   "execution_count": 32,
   "id": "19e13589",
   "metadata": {},
   "outputs": [],
   "source": [
    "def makerequest(url):\n",
    "    response=requests.get(url)\n",
    "    if 200<= response.status_code<400:\n",
    "        return response\n",
    "    else:\n",
    "        print(f\"{url} returned {response.status_code}\")\n"
   ]
  },
  {
   "cell_type": "code",
   "execution_count": 33,
   "id": "49b6db13",
   "metadata": {},
   "outputs": [],
   "source": [
    "def soupify(url):\n",
    "    response=makerequest(url)\n",
    "    return BeautifulSoup(response.text, \"html.parser\")"
   ]
  },
  {
   "cell_type": "code",
   "execution_count": 47,
   "id": "c252b75d",
   "metadata": {},
   "outputs": [
    {
     "data": {
      "text/plain": [
       "[<a href=\"\">tag 1</a>,\n",
       " <a href=\"\">tag 2</a>,\n",
       " <a href=\"files/text_doc_01.txt\">1</a>,\n",
       " <a href=\"files/text_doc_02.txt\">2</a>,\n",
       " <a href=\"files/text_doc_03.txt\">3</a>,\n",
       " <a href=\"files/text_doc_04.txt\">4</a>,\n",
       " <a href=\"files/text_doc_05.txt\">5</a>,\n",
       " <a href=\"files/text_doc_06.txt\">6</a>,\n",
       " <a href=\"files/text_doc_07.txt\">7</a>,\n",
       " <a href=\"files/text_doc_08.txt\">8</a>,\n",
       " <a href=\"files/text_doc_09.txt\">9</a>,\n",
       " <a href=\"files/text_doc_10.txt\">10</a>,\n",
       " <a href=\"\">tag 3</a>,\n",
       " <a href=\"\">tag 4</a>,\n",
       " <a href=\"files/pdf_1.pdf\">1</a>,\n",
       " <a href=\"files/pdf_2.pdf\">2</a>,\n",
       " <a href=\"files/pdf_3.pdf\">3</a>,\n",
       " <a href=\"files/pdf_4.pdf\">4</a>,\n",
       " <a href=\"files/pdf_5.pdf\">5</a>,\n",
       " <a href=\"files/pdf_6.pdf\">6</a>,\n",
       " <a href=\"files/pdf_7.pdf\">7</a>,\n",
       " <a href=\"files/pdf_8.pdf\">8</a>,\n",
       " <a href=\"files/pdf_9.pdf\">9</a>,\n",
       " <a href=\"files/pdf_10.pdf\">10</a>,\n",
       " <a href=\"\">tag 5</a>,\n",
       " <a href=\"\">tag 6</a>,\n",
       " <a href=\"files/text_doc_A.txt\">1</a>,\n",
       " <a href=\"files/text_doc_B.txt\">2</a>,\n",
       " <a href=\"files/text_doc_C.txt\">3</a>,\n",
       " <a href=\"files/text_doc_D.txt\">4</a>,\n",
       " <a href=\"files/text_doc_E.txt\">5</a>,\n",
       " <a href=\"files/text_doc_F.txt\">6</a>,\n",
       " <a href=\"files/text_doc_G.txt\">7</a>,\n",
       " <a href=\"files/text_doc_H.txt\">8</a>,\n",
       " <a href=\"files/text_doc_I.txt\">9</a>,\n",
       " <a href=\"files/text_doc_J.txt\">10</a>]"
      ]
     },
     "execution_count": 47,
     "metadata": {},
     "output_type": "execute_result"
    }
   ],
   "source": [
    "soup=soupify(site)\n",
    "all_links=soup.find_all(\"a\")\n",
    "all_links"
   ]
  },
  {
   "cell_type": "code",
   "execution_count": 50,
   "id": "bb39fa47",
   "metadata": {},
   "outputs": [
    {
     "data": {
      "text/plain": [
       "['',\n",
       " '',\n",
       " 'files/text_doc_01.txt',\n",
       " 'files/text_doc_02.txt',\n",
       " 'files/text_doc_03.txt',\n",
       " 'files/text_doc_04.txt',\n",
       " 'files/text_doc_05.txt',\n",
       " 'files/text_doc_06.txt',\n",
       " 'files/text_doc_07.txt',\n",
       " 'files/text_doc_08.txt',\n",
       " 'files/text_doc_09.txt',\n",
       " 'files/text_doc_10.txt',\n",
       " '',\n",
       " '',\n",
       " 'files/pdf_1.pdf',\n",
       " 'files/pdf_2.pdf',\n",
       " 'files/pdf_3.pdf',\n",
       " 'files/pdf_4.pdf',\n",
       " 'files/pdf_5.pdf',\n",
       " 'files/pdf_6.pdf',\n",
       " 'files/pdf_7.pdf',\n",
       " 'files/pdf_8.pdf',\n",
       " 'files/pdf_9.pdf',\n",
       " 'files/pdf_10.pdf',\n",
       " '',\n",
       " '',\n",
       " 'files/text_doc_A.txt',\n",
       " 'files/text_doc_B.txt',\n",
       " 'files/text_doc_C.txt',\n",
       " 'files/text_doc_D.txt',\n",
       " 'files/text_doc_E.txt',\n",
       " 'files/text_doc_F.txt',\n",
       " 'files/text_doc_G.txt',\n",
       " 'files/text_doc_H.txt',\n",
       " 'files/text_doc_I.txt',\n",
       " 'files/text_doc_J.txt']"
      ]
     },
     "execution_count": 50,
     "metadata": {},
     "output_type": "execute_result"
    }
   ],
   "source": [
    "just_links=[]\n",
    "for link in all_links:\n",
    "    sublink=link.get(\"href\")\n",
    "    just_links.append(sublink)\n",
    "just_links"
   ]
  },
  {
   "cell_type": "code",
   "execution_count": 51,
   "id": "f02b25c8",
   "metadata": {},
   "outputs": [
    {
     "data": {
      "text/plain": [
       "['files/pdf_1.pdf',\n",
       " 'files/pdf_2.pdf',\n",
       " 'files/pdf_3.pdf',\n",
       " 'files/pdf_4.pdf',\n",
       " 'files/pdf_5.pdf',\n",
       " 'files/pdf_6.pdf',\n",
       " 'files/pdf_7.pdf',\n",
       " 'files/pdf_8.pdf',\n",
       " 'files/pdf_9.pdf',\n",
       " 'files/pdf_10.pdf']"
      ]
     },
     "execution_count": 51,
     "metadata": {},
     "output_type": "execute_result"
    }
   ],
   "source": [
    "pdf_links=[]\n",
    "for link in just_links:\n",
    "    if '.pdf' in link:\n",
    "        pdf_links.append(link)\n",
    "pdf_links\n",
    "    "
   ]
  },
  {
   "cell_type": "code",
   "execution_count": 55,
   "id": "d25406eb",
   "metadata": {},
   "outputs": [
    {
     "name": "stdout",
     "output_type": "stream",
     "text": [
      "100% [..........................................................] 13049 / 13049"
     ]
    }
   ],
   "source": [
    "pdfs=[base_url+pdf for pdf in pdf_links]\n",
    "for file in pdfs:\n",
    "    wget.download(file)"
   ]
  },
  {
   "cell_type": "markdown",
   "id": "cc37c3dc",
   "metadata": {},
   "source": [
    "# 2. Demo downloading ALL files from websites \n",
    "\n",
    "There are ```txt``` and ```pdf``` files on:\n",
    "\n",
    "```https://sandeepmj.github.io/scrape-example-page/pages.html```\n",
    "\n",
    "Do the following:\n",
    "\n",
    "1. Download all  files."
   ]
  },
  {
   "cell_type": "code",
   "execution_count": 74,
   "id": "d786775f",
   "metadata": {},
   "outputs": [],
   "source": [
    "##used just_links.remove('') to remove useless entries.\n",
    "just_links"
   ]
  },
  {
   "cell_type": "code",
   "execution_count": 75,
   "id": "85cdba35",
   "metadata": {},
   "outputs": [
    {
     "name": "stdout",
     "output_type": "stream",
     "text": [
      "now downloading https://sandeepmj.github.io/scrape-example-page/files/pdf_10.pdf\n",
      "100% [..........................................................] 13049 / 13049now downloading https://sandeepmj.github.io/scrape-example-page/files/pdf_10.pdf\n",
      "100% [..........................................................] 13049 / 13049now downloading https://sandeepmj.github.io/scrape-example-page/files/pdf_10.pdf\n",
      "100% [..........................................................] 13049 / 13049now downloading https://sandeepmj.github.io/scrape-example-page/files/pdf_10.pdf\n",
      "100% [..........................................................] 13049 / 13049now downloading https://sandeepmj.github.io/scrape-example-page/files/pdf_10.pdf\n",
      "100% [..........................................................] 13049 / 13049now downloading https://sandeepmj.github.io/scrape-example-page/files/pdf_10.pdf\n",
      "100% [..........................................................] 13049 / 13049now downloading https://sandeepmj.github.io/scrape-example-page/files/pdf_10.pdf\n",
      "100% [..........................................................] 13049 / 13049now downloading https://sandeepmj.github.io/scrape-example-page/files/pdf_10.pdf\n",
      "100% [..........................................................] 13049 / 13049now downloading https://sandeepmj.github.io/scrape-example-page/files/pdf_10.pdf\n",
      "100% [..........................................................] 13049 / 13049now downloading https://sandeepmj.github.io/scrape-example-page/files/pdf_10.pdf\n",
      "100% [..........................................................] 13049 / 13049now downloading https://sandeepmj.github.io/scrape-example-page/files/pdf_10.pdf\n",
      "100% [..........................................................] 13049 / 13049now downloading https://sandeepmj.github.io/scrape-example-page/files/pdf_10.pdf\n",
      "100% [..........................................................] 13049 / 13049now downloading https://sandeepmj.github.io/scrape-example-page/files/pdf_10.pdf\n",
      "100% [..........................................................] 13049 / 13049now downloading https://sandeepmj.github.io/scrape-example-page/files/pdf_10.pdf\n",
      "100% [..........................................................] 13049 / 13049now downloading https://sandeepmj.github.io/scrape-example-page/files/pdf_10.pdf\n",
      "100% [..........................................................] 13049 / 13049now downloading https://sandeepmj.github.io/scrape-example-page/files/pdf_10.pdf\n",
      "100% [..........................................................] 13049 / 13049now downloading https://sandeepmj.github.io/scrape-example-page/files/pdf_10.pdf\n",
      "100% [..........................................................] 13049 / 13049now downloading https://sandeepmj.github.io/scrape-example-page/files/pdf_10.pdf\n",
      "100% [..........................................................] 13049 / 13049now downloading https://sandeepmj.github.io/scrape-example-page/files/pdf_10.pdf\n",
      "100% [..........................................................] 13049 / 13049now downloading https://sandeepmj.github.io/scrape-example-page/files/pdf_10.pdf\n",
      "100% [..........................................................] 13049 / 13049now downloading https://sandeepmj.github.io/scrape-example-page/files/pdf_10.pdf\n",
      "100% [..........................................................] 13049 / 13049now downloading https://sandeepmj.github.io/scrape-example-page/files/pdf_10.pdf\n",
      "100% [..........................................................] 13049 / 13049now downloading https://sandeepmj.github.io/scrape-example-page/files/pdf_10.pdf\n",
      "100% [..........................................................] 13049 / 13049now downloading https://sandeepmj.github.io/scrape-example-page/files/pdf_10.pdf\n",
      "100% [..........................................................] 13049 / 13049now downloading https://sandeepmj.github.io/scrape-example-page/files/pdf_10.pdf\n",
      "100% [..........................................................] 13049 / 13049now downloading https://sandeepmj.github.io/scrape-example-page/files/pdf_10.pdf\n",
      "100% [..........................................................] 13049 / 13049now downloading https://sandeepmj.github.io/scrape-example-page/files/pdf_10.pdf\n",
      "100% [..........................................................] 13049 / 13049now downloading https://sandeepmj.github.io/scrape-example-page/files/pdf_10.pdf\n",
      "100% [..........................................................] 13049 / 13049now downloading https://sandeepmj.github.io/scrape-example-page/files/pdf_10.pdf\n",
      "100% [..........................................................] 13049 / 13049now downloading https://sandeepmj.github.io/scrape-example-page/files/pdf_10.pdf\n",
      "100% [..........................................................] 13049 / 13049"
     ]
    }
   ],
   "source": [
    "for link in just_links:\n",
    "    print(f\"now downloading {file}\")\n",
    "    wget.download(file)\n",
    "    "
   ]
  },
  {
   "cell_type": "markdown",
   "id": "0c9faeae",
   "metadata": {},
   "source": [
    "# 3. Conversion function\n",
    "\n",
    "\n",
    "Write a function that takes string values like ```$12.24```, ```10,201.7654``` and ```$12,501``` and converts them into floating point numbers like ```12.24```, ```10201.77``` and ```12501.0```\n",
    "\n",
    "Test it out on those 3 string values."
   ]
  },
  {
   "cell_type": "code",
   "execution_count": 96,
   "id": "ca97e315",
   "metadata": {},
   "outputs": [],
   "source": [
    "## write function here\n",
    "def beautify(stringnumber):\n",
    "    newstring=stringnumber.replace(\"$\",\"\")\n",
    "    newerstring=newstring.replace(\",\",\"\")\n",
    "    numbernumber=float(newerstring)\n",
    "    return round(numbernumber,2)\n"
   ]
  },
  {
   "cell_type": "code",
   "execution_count": 97,
   "id": "908b865a",
   "metadata": {},
   "outputs": [
    {
     "data": {
      "text/plain": [
       "12345.23"
      ]
     },
     "execution_count": 97,
     "metadata": {},
     "output_type": "execute_result"
    }
   ],
   "source": [
    "beautify(\"$123,45.2345\")"
   ]
  },
  {
   "cell_type": "code",
   "execution_count": null,
   "id": "bb86129d",
   "metadata": {},
   "outputs": [],
   "source": [
    "numbers=[\"$12.24\",\"10,201.7654\",\"$12,501\""
   ]
  },
  {
   "cell_type": "code",
   "execution_count": 98,
   "id": "0a724a69",
   "metadata": {},
   "outputs": [
    {
     "data": {
      "text/plain": [
       "12.24"
      ]
     },
     "execution_count": 98,
     "metadata": {},
     "output_type": "execute_result"
    }
   ],
   "source": [
    "## call it on \"$12.24\"\n",
    "beautify(\"$12.24\")"
   ]
  },
  {
   "cell_type": "code",
   "execution_count": 99,
   "id": "1e7ddf1b",
   "metadata": {},
   "outputs": [
    {
     "data": {
      "text/plain": [
       "10201.77"
      ]
     },
     "execution_count": 99,
     "metadata": {},
     "output_type": "execute_result"
    }
   ],
   "source": [
    "## call it on \"10,201.7654\"\n",
    "beautify(\"10,201.7654\")"
   ]
  },
  {
   "cell_type": "code",
   "execution_count": 100,
   "id": "564db337",
   "metadata": {},
   "outputs": [
    {
     "data": {
      "text/plain": [
       "12501.0"
      ]
     },
     "execution_count": 100,
     "metadata": {},
     "output_type": "execute_result"
    }
   ],
   "source": [
    "## call it on \"$12,501\"\n",
    "beautify(\"$12,501\")"
   ]
  },
  {
   "cell_type": "code",
   "execution_count": null,
   "id": "793ccf1a",
   "metadata": {},
   "outputs": [],
   "source": []
  }
 ],
 "metadata": {
  "kernelspec": {
   "display_name": "Python 3 (ipykernel)",
   "language": "python",
   "name": "python3"
  },
  "language_info": {
   "codemirror_mode": {
    "name": "ipython",
    "version": 3
   },
   "file_extension": ".py",
   "mimetype": "text/x-python",
   "name": "python",
   "nbconvert_exporter": "python",
   "pygments_lexer": "ipython3",
   "version": "3.11.4"
  }
 },
 "nbformat": 4,
 "nbformat_minor": 5
}
